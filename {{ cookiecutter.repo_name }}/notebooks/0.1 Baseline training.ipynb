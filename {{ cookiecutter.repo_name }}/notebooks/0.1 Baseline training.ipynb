{
 "cells": [
  {
   "cell_type": "code",
   "execution_count": 16,
   "id": "7a566e6b",
   "metadata": {
    "ExecuteTime": {
     "end_time": "2022-07-12T17:54:31.466151Z",
     "start_time": "2022-07-12T17:54:31.462427Z"
    }
   },
   "outputs": [],
   "source": [
    "import numpy as np\n",
    "import pandas as pd"
   ]
  },
  {
   "cell_type": "code",
   "execution_count": 2,
   "id": "8719e1c2",
   "metadata": {
    "ExecuteTime": {
     "end_time": "2022-07-12T18:07:59.649161Z",
     "start_time": "2022-07-12T18:07:58.621183Z"
    }
   },
   "outputs": [
    {
     "name": "stderr",
     "output_type": "stream",
     "text": [
      "/home/hus/anaconda3/lib/python3.9/site-packages/sklearn/utils/deprecation.py:143: FutureWarning: The sklearn.utils.testing module is  deprecated in version 0.22 and will be removed in version 0.24. The corresponding classes / functions should instead be imported from sklearn.utils. Anything that cannot be imported from sklearn.utils is now part of the private API.\n",
      "  warnings.warn(message, FutureWarning)\n"
     ]
    }
   ],
   "source": [
    "from lightgbm import LGBMClassifier\n",
    "import lazypredict\n",
    "from lazypredict.Supervised import LazyClassifier\n",
    "from sklearn.model_selection import train_test_split, StratifiedKFold\n",
    "from sklearn.preprocessing import LabelEncoder\n",
    "from warnings import filterwarnings\n",
    "import time\n",
    "from sklearn.metrics import accuracy_score\n",
    "from IPython.display import clear_output\n",
    "filterwarnings('ignore')"
   ]
  },
  {
   "cell_type": "code",
   "execution_count": 18,
   "id": "ce737f99",
   "metadata": {
    "ExecuteTime": {
     "end_time": "2022-07-12T17:54:31.894336Z",
     "start_time": "2022-07-12T17:54:31.777414Z"
    }
   },
   "outputs": [],
   "source": [
    "train = pd.read_csv(\"../data/interim//0.1_train.csv\")"
   ]
  },
  {
   "cell_type": "code",
   "execution_count": 19,
   "id": "18e29363",
   "metadata": {
    "ExecuteTime": {
     "end_time": "2022-07-12T17:54:32.066742Z",
     "start_time": "2022-07-12T17:54:31.950214Z"
    }
   },
   "outputs": [],
   "source": [
    "test = pd.read_csv(\"../data/interim/0.1_test.csv\")"
   ]
  },
  {
   "cell_type": "code",
   "execution_count": 20,
   "id": "5504aa39",
   "metadata": {
    "ExecuteTime": {
     "end_time": "2022-07-12T17:54:32.154581Z",
     "start_time": "2022-07-12T17:54:32.137009Z"
    }
   },
   "outputs": [],
   "source": [
    "submission = pd.read_csv(\"../data/raw/sample_submission.csv\")"
   ]
  },
  {
   "cell_type": "code",
   "execution_count": 4,
   "id": "1056d44e",
   "metadata": {
    "ExecuteTime": {
     "end_time": "2022-07-12T18:08:17.376373Z",
     "start_time": "2022-07-12T18:08:17.253097Z"
    }
   },
   "outputs": [],
   "source": [
    "!cat ../data/interim/info.txt"
   ]
  },
  {
   "cell_type": "code",
   "execution_count": 24,
   "id": "1cd3b304",
   "metadata": {
    "ExecuteTime": {
     "end_time": "2022-07-12T17:59:40.254317Z",
     "start_time": "2022-07-12T17:59:40.250811Z"
    }
   },
   "outputs": [],
   "source": [
    "TARGET = \"\""
   ]
  },
  {
   "cell_type": "code",
   "execution_count": 25,
   "id": "e2e6428f",
   "metadata": {
    "ExecuteTime": {
     "end_time": "2022-07-12T17:59:41.199677Z",
     "start_time": "2022-07-12T17:59:40.972274Z"
    }
   },
   "outputs": [],
   "source": [
    "label_cols = ['']\n",
    "def label_encoder(train,test,columns):\n",
    "    for col in columns:\n",
    "        train[col] = train[col].astype(str)\n",
    "        test[col] = test[col].astype(str)\n",
    "        train[col] = LabelEncoder().fit_transform(train[col])\n",
    "        test[col] =  LabelEncoder().fit_transform(test[col])\n",
    "    return train, test\n",
    "\n",
    "train ,test = label_encoder(train,test ,label_cols)"
   ]
  },
  {
   "cell_type": "code",
   "execution_count": 26,
   "id": "894d6cfc",
   "metadata": {
    "ExecuteTime": {
     "end_time": "2022-07-12T18:00:05.737425Z",
     "start_time": "2022-07-12T18:00:05.707389Z"
    }
   },
   "outputs": [],
   "source": [
    "X = train.drop(TARGET , axis =1 )\n",
    "y = train[TARGET]\n",
    "X_train , X_test , y_train , y_test = train_test_split(X , \n",
    "                                                       y, \n",
    "                                                       random_state = 12 ,\n",
    "                                                       test_size =0.30)"
   ]
  },
  {
   "cell_type": "code",
   "execution_count": null,
   "id": "9d603e20",
   "metadata": {
    "ExecuteTime": {
     "start_time": "2022-07-12T18:00:50.052Z"
    }
   },
   "outputs": [],
   "source": [
    "FOLDS = 10\n",
    "RANDOM_STATE = 420"
   ]
  },
  {
   "cell_type": "code",
   "execution_count": null,
   "id": "ba2e641b",
   "metadata": {
    "ExecuteTime": {
     "start_time": "2022-07-12T18:00:11.883Z"
    }
   },
   "outputs": [
    {
     "name": "stderr",
     "output_type": "stream",
     "text": [
      " 86%|█████████████████████████████████████      | 25/29 [04:34<00:28,  7.22s/it]"
     ]
    }
   ],
   "source": [
    "clf = LazyClassifier(verbose=0,\n",
    "                     ignore_warnings=True,\n",
    "                     custom_metric=None,\n",
    "                     predictions=False,\n",
    "                     random_state=12,\n",
    "                     classifiers='all')\n",
    "\n",
    "models, predictions = clf.fit(X_train , X_test , y_train , y_test)"
   ]
  },
  {
   "cell_type": "code",
   "execution_count": null,
   "id": "94f12155",
   "metadata": {
    "ExecuteTime": {
     "start_time": "2022-07-12T18:00:22.726Z"
    }
   },
   "outputs": [],
   "source": [
    "models[:10]"
   ]
  },
  {
   "cell_type": "code",
   "execution_count": null,
   "id": "f6577be0",
   "metadata": {},
   "outputs": [],
   "source": []
  }
 ],
 "metadata": {
  "kernelspec": {
   "display_name": "Python 3 (ipykernel)",
   "language": "python",
   "name": "python3"
  },
  "language_info": {
   "codemirror_mode": {
    "name": "ipython",
    "version": 3
   },
   "file_extension": ".py",
   "mimetype": "text/x-python",
   "name": "python",
   "nbconvert_exporter": "python",
   "pygments_lexer": "ipython3",
   "version": "3.9.12"
  }
 },
 "nbformat": 4,
 "nbformat_minor": 5
}
